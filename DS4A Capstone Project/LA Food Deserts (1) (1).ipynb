{
 "cells": [
  {
   "cell_type": "markdown",
   "id": "bb4e36a1",
   "metadata": {},
   "source": [
    "**DS4A CAPSTONE PROJECT: DATA INGESTION AND CLEANING**\n",
    "\n",
    "Team #37 | Chiugo Ezekwem, Jasmin Alvarez, John Tsirigotis, Melanie Dakwa, Nelson Adeniji and Ryan Roberts"
   ]
  },
  {
   "cell_type": "code",
   "execution_count": 1,
   "id": "14dbc1a8",
   "metadata": {},
   "outputs": [],
   "source": [
    "import pandas as pd"
   ]
  },
  {
   "cell_type": "code",
   "execution_count": 11,
   "id": "c6728998",
   "metadata": {},
   "outputs": [],
   "source": [
    "df = pd.read_csv('./Team Project/Data/food_access_research_atlas.csv')"
   ]
  },
  {
   "cell_type": "code",
   "execution_count": 12,
   "id": "9fc2f788",
   "metadata": {},
   "outputs": [],
   "source": [
    "# Only keep Louisiana data\n",
    "df_la = df[df['State']==\"Louisiana\"]"
   ]
  },
  {
   "cell_type": "code",
   "execution_count": 17,
   "id": "cacf79ff",
   "metadata": {},
   "outputs": [],
   "source": [
    "'''\n",
    "How are we defining food desert?\n",
    "-1 mi for Urban & 10 for Rural (LILATracts_1And10) OR\n",
    "-0.5 mi for Urban & 10 for Rural (LILATracts_halfAnd10) OR\n",
    "-1 mi for Urban & 20 for Rural (LILATracts_1And20)\n",
    "'''\n",
    "\n",
    "keeplist = [\"CensusTract\",\"State\",\"County\",\"Urban\",\"POP2010\",\\\n",
    "            \"OHU2010\",\"GroupQuartersFlag\",\"NUMGQTRS\",\"PCTGQTRS\",\"LILATracts_1And10\",\\\n",
    "            \"LILATracts_halfAnd10\",\"LILATracts_1And20\",\"LILATracts_Vehicle\",\"HUNVFlag\",\\\n",
    "            \"LowIncomeTracts\",\"PovertyRate\",\"MedianFamilyIncome\",\"TractLOWI\",\"TractKids\",\\\n",
    "            \"TractSeniors\",\"TractWhite\",\"TractBlack\",\"TractAsian\",\"TractNHOPI\",\"TractAIAN\",\\\n",
    "            \"TractOMultir\",\"TractHispanic\",\"TractHUNV\",\"TractSNAP\"]\n",
    "\n",
    "df_la = df_la[keeplist]"
   ]
  },
  {
   "cell_type": "code",
   "execution_count": 19,
   "id": "89353eb9",
   "metadata": {},
   "outputs": [
    {
     "name": "stdout",
     "output_type": "stream",
     "text": [
      "<class 'pandas.core.frame.DataFrame'>\n",
      "Int64Index: 1143 entries, 28228 to 29370\n",
      "Data columns (total 29 columns):\n",
      " #   Column                Non-Null Count  Dtype  \n",
      "---  ------                --------------  -----  \n",
      " 0   CensusTract           1143 non-null   int64  \n",
      " 1   State                 1143 non-null   object \n",
      " 2   County                1143 non-null   object \n",
      " 3   Urban                 1143 non-null   int64  \n",
      " 4   POP2010               1143 non-null   int64  \n",
      " 5   OHU2010               1143 non-null   int64  \n",
      " 6   GroupQuartersFlag     1143 non-null   int64  \n",
      " 7   NUMGQTRS              1143 non-null   int64  \n",
      " 8   PCTGQTRS              1143 non-null   float64\n",
      " 9   LILATracts_1And10     1143 non-null   int64  \n",
      " 10  LILATracts_halfAnd10  1143 non-null   int64  \n",
      " 11  LILATracts_1And20     1143 non-null   int64  \n",
      " 12  LILATracts_Vehicle    1143 non-null   int64  \n",
      " 13  HUNVFlag              1143 non-null   int64  \n",
      " 14  LowIncomeTracts       1143 non-null   int64  \n",
      " 15  PovertyRate           1143 non-null   float64\n",
      " 16  MedianFamilyIncome    1143 non-null   int64  \n",
      " 17  TractLOWI             1143 non-null   int64  \n",
      " 18  TractKids             1143 non-null   int64  \n",
      " 19  TractSeniors          1143 non-null   int64  \n",
      " 20  TractWhite            1143 non-null   int64  \n",
      " 21  TractBlack            1143 non-null   int64  \n",
      " 22  TractAsian            1143 non-null   int64  \n",
      " 23  TractNHOPI            1143 non-null   int64  \n",
      " 24  TractAIAN             1143 non-null   int64  \n",
      " 25  TractOMultir          1143 non-null   int64  \n",
      " 26  TractHispanic         1143 non-null   int64  \n",
      " 27  TractHUNV             1143 non-null   int64  \n",
      " 28  TractSNAP             1143 non-null   int64  \n",
      "dtypes: float64(2), int64(25), object(2)\n",
      "memory usage: 267.9+ KB\n"
     ]
    }
   ],
   "source": [
    "df_la.info(verbose=True)"
   ]
  },
  {
   "cell_type": "code",
   "execution_count": 20,
   "id": "300a7331",
   "metadata": {},
   "outputs": [],
   "source": [
    "df_la.to_csv('df_clean.csv',index=False)"
   ]
  }
 ],
 "metadata": {
  "kernelspec": {
   "display_name": "Python 3 (ipykernel)",
   "language": "python",
   "name": "python3"
  },
  "language_info": {
   "codemirror_mode": {
    "name": "ipython",
    "version": 3
   },
   "file_extension": ".py",
   "mimetype": "text/x-python",
   "name": "python",
   "nbconvert_exporter": "python",
   "pygments_lexer": "ipython3",
   "version": "3.9.16"
  }
 },
 "nbformat": 4,
 "nbformat_minor": 5
}
